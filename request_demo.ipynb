{
 "cells": [
  {
   "cell_type": "markdown",
   "id": "274d19fc",
   "metadata": {},
   "source": [
    "# Demo on requesting a quiz from the fine-tuned GPT-J-6B model"
   ]
  },
  {
   "cell_type": "code",
   "execution_count": 1,
   "id": "6f416467",
   "metadata": {},
   "outputs": [],
   "source": [
    "import requests\n",
    "import json"
   ]
  },
  {
   "cell_type": "markdown",
   "id": "09e0ac66",
   "metadata": {},
   "source": [
    "### Parameter settings"
   ]
  },
  {
   "cell_type": "code",
   "execution_count": 2,
   "id": "65801b70",
   "metadata": {},
   "outputs": [],
   "source": [
    "# Input API-Key (Not Provided) for the request\n",
    "headers = {\"Authorization\": \"Bearer API-Key\"}\n",
    "\n",
    "# Input text and set parameters for the model, Outline: is required at the end of the text\n",
    "Text = \"\"\"\n",
    "       In the Lindisfarne attack, monks were killed in the abbey, thrown into the sea to drown, or carried away as slaves along \n",
    "       with the church treasures, giving rise to the traditional (but unattested) prayer—A furore Normannorum libera nos, \n",
    "       Domine, \"Free us from the fury of the Northmen, Lord.\" Three Viking ships had beached in Weymouth Bay four years earlier \n",
    "       (although due to a scribal error the Anglo-Saxon Chronicle dates this event to 787 rather than 789), but that incursion \n",
    "       may have been a trading expedition that went wrong rather than a piratical raid. Lindisfarne was different. The Viking \n",
    "       devastation of Northumbria's Holy Island was reported by the Northumbrian scholar Alcuin of York, who wrote: \"Never \n",
    "       before in Britain has such a terror appeared\". Vikings were portrayed as wholly violent and bloodthirsty by their \n",
    "       enemies. In medieval English chronicles, they are described as \"wolves among sheep\".Outline:\n",
    "       \"\"\"\n",
    "Top_P = 1\n",
    "Top_K = 40\n",
    "Temp = 0.8\n",
    "Rep_pen = 1\n",
    "Length = 70\n",
    "SS = [\"bird\", \"cat\", \"dog\"]"
   ]
  },
  {
   "cell_type": "code",
   "execution_count": 3,
   "id": "4878ca37",
   "metadata": {},
   "outputs": [],
   "source": [
    "body = {\n",
    "        \"text\":Text,\n",
    "        \"top_p\" : Top_P,\n",
    "        \"top-k\" : Top_K,\n",
    "        \"temperature\" : Temp,\n",
    "        \"repetition_penalty\": Rep_pen,\n",
    "        \"length\":Length,\n",
    "        \"stop_sequences\": SS\n",
    "       }"
   ]
  },
  {
   "cell_type": "markdown",
   "id": "a220edf5",
   "metadata": {},
   "source": [
    "### Completion request"
   ]
  },
  {
   "cell_type": "code",
   "execution_count": 4,
   "id": "1b96a294",
   "metadata": {},
   "outputs": [],
   "source": [
    "result = requests.post(\n",
    "                       \"https://shared-api.forefront.link/organization/9aDsThyuopVF/gpt-j-6b-vanilla/completions/f3v4Itakh61h\",\n",
    "                        json=body, \n",
    "                        headers=headers\n",
    "                      )"
   ]
  },
  {
   "cell_type": "code",
   "execution_count": 5,
   "id": "d3d2c388",
   "metadata": {},
   "outputs": [],
   "source": [
    "result_json = result.json()\n",
    "completion = result_json['result'][0]['completion']"
   ]
  },
  {
   "cell_type": "code",
   "execution_count": 6,
   "id": "5324d9ee",
   "metadata": {},
   "outputs": [
    {
     "name": "stdout",
     "output_type": "stream",
     "text": [
      " Question: What was the result of the Viking attack on Lindisfarne in 793?\n",
      "        Answer: Many monks were killed.\n"
     ]
    }
   ],
   "source": [
    "print(completion)"
   ]
  }
 ],
 "metadata": {
  "kernelspec": {
   "display_name": "Python 3 (ipykernel)",
   "language": "python",
   "name": "python3"
  },
  "language_info": {
   "codemirror_mode": {
    "name": "ipython",
    "version": 3
   },
   "file_extension": ".py",
   "mimetype": "text/x-python",
   "name": "python",
   "nbconvert_exporter": "python",
   "pygments_lexer": "ipython3",
   "version": "3.9.12"
  }
 },
 "nbformat": 4,
 "nbformat_minor": 5
}
