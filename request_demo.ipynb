{
 "cells": [
  {
   "cell_type": "code",
   "execution_count": 1,
   "id": "da0827a9",
   "metadata": {},
   "outputs": [],
   "source": [
    "# Request a multiple-choice question from the GPT-J-6B model\n",
    "import requests\n",
    "import json"
   ]
  },
  {
   "cell_type": "code",
   "execution_count": 2,
   "id": "1bd00638",
   "metadata": {},
   "outputs": [],
   "source": [
    "# Input the API-Key (Not Provided) for the request\n",
    "headers = {\"Authorization\": \"Bearer <SECRET_API_KEY>\"}"
   ]
  },
  {
   "cell_type": "code",
   "execution_count": 3,
   "id": "89809357",
   "metadata": {},
   "outputs": [],
   "source": [
    "# Input passage and setting parameters for the model\n",
    "Text = \"\"\"\n",
    "        The Viking Age generally refers to the period from A.D. 800, a few years after the earliest recorded raid, \n",
    "        until the 1050s, a few years before the Norman Conquest of England in 1066, according to Angelo Forte, Richard D. Oram \n",
    "        and Frederik Pedersen, authors of Viking Empires (Cambridge University Press, 2005). During this time, the reach of the \n",
    "        Scandinavian people extended to all corners of northern Europe, and many other nations found Vikings raiding their \n",
    "        coasts. The farthest reported records of Vikings were in Baghdad for the trading of goods like fur, tusks and seal fat.\n",
    "        Outline:\n",
    "       \"\"\"\n",
    "Top_P = 1\n",
    "Top_K = 40\n",
    "Temp = 0.85\n",
    "Rep_pen = 1\n",
    "Length = 100\n",
    "SS = [\"bird\", \"cat\", \"dog\"]"
   ]
  },
  {
   "cell_type": "code",
   "execution_count": 4,
   "id": "057e7664",
   "metadata": {},
   "outputs": [],
   "source": [
    "body = {\n",
    "        \"text\":Text,\n",
    "        \"top_p\" : Top_P,\n",
    "        \"top-k\" : Top_K,\n",
    "        \"temperature\" : Temp,\n",
    "        \"repetition_penalty\": Rep_pen,\n",
    "        \"length\":Length,\n",
    "        \"stop_sequences\": SS\n",
    "       }"
   ]
  },
  {
   "cell_type": "code",
   "execution_count": 5,
   "id": "5c4d22fc",
   "metadata": {},
   "outputs": [],
   "source": [
    "# Make a request with our input\n",
    "res = requests.post(\n",
    "                    \"https://shared-api.forefront.link/organization/9aDsThyuopVF/gpt-j-6b-vanilla/completions/O5hBBZA60L1h\",\n",
    "                     json=body, \n",
    "                     headers=headers\n",
    "                   )"
   ]
  },
  {
   "cell_type": "code",
   "execution_count": 6,
   "id": "31b9d279",
   "metadata": {},
   "outputs": [],
   "source": [
    "completion = res.json()"
   ]
  },
  {
   "cell_type": "code",
   "execution_count": 7,
   "id": "c86096cd",
   "metadata": {},
   "outputs": [
    {
     "data": {
      "text/plain": [
       "{'result': [{'completion': \" What is the definition of 'Viking Age' as used in this context? 'The Viking Age generally refers to the period …?'A. from A.D. 800 to the Norman Conquest of England in 1066.B. for a few years after the earliest recorded raid.C. a few years before the Norman Conquest of England in 1066.D. a few years after the earliest recorded raid in the Viking Age.Answer: A\"}],\n",
       " 'timestamp': 1658019724,\n",
       " 'model': 'gpt-j'}"
      ]
     },
     "execution_count": 7,
     "metadata": {},
     "output_type": "execute_result"
    }
   ],
   "source": [
    "completion"
   ]
  },
  {
   "cell_type": "code",
   "execution_count": null,
   "id": "a2ccdbea",
   "metadata": {},
   "outputs": [],
   "source": [
    "# So we have obtained the question below after some formatting:\n",
    "\n",
    "# What is the definition of 'Viking Age' as used in this context? The Viking Age generally refers to the period …?\n",
    "# A. from A.D. 800 to the Norman Conquest of England in 1066.\n",
    "# B. for a few years after the earliest recorded raid.\n",
    "# C. a few years before the Norman Conquest of England in 1066.\n",
    "# D. a few years after the earliest recorded raid in the Viking Age.\n",
    "# Answer: A"
   ]
  }
 ],
 "metadata": {
  "kernelspec": {
   "display_name": "Python 3 (ipykernel)",
   "language": "python",
   "name": "python3"
  },
  "language_info": {
   "codemirror_mode": {
    "name": "ipython",
    "version": 3
   },
   "file_extension": ".py",
   "mimetype": "text/x-python",
   "name": "python",
   "nbconvert_exporter": "python",
   "pygments_lexer": "ipython3",
   "version": "3.9.12"
  }
 },
 "nbformat": 4,
 "nbformat_minor": 5
}
